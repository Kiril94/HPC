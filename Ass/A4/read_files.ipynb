{
 "cells": [
  {
   "cell_type": "code",
   "execution_count": 16,
   "metadata": {},
   "outputs": [],
   "source": [
    "import os\n",
    "import numpy as np\n",
    "import matplotlib.pyplot as plt\n",
    "import re\n",
    "import pandas as pd"
   ]
  },
  {
   "cell_type": "code",
   "execution_count": 6,
   "metadata": {},
   "outputs": [
    {
     "data": {
      "text/plain": [
       "'/home/fjn197_alumni_ku_dk/modi_mount/CT_Reconstruction'"
      ]
     },
     "execution_count": 6,
     "metadata": {},
     "output_type": "execute_result"
    }
   ],
   "source": [
    "%pwd"
   ]
  },
  {
   "cell_type": "code",
   "execution_count": 23,
   "metadata": {},
   "outputs": [],
   "source": [
    "Data_par = []\n",
    "res_dir = \"/home/fjn197_alumni_ku_dk/modi_mount/CT_Reconstruction/results\"\n",
    "for file in os.listdir(res_dir):\n",
    "    if file.startswith(\"slurm_parallel\"):\n",
    "        with open(res_dir+'/'+file, 'r') as f:\n",
    "            data = f.read()\n",
    "            Data_par.append(data)\n",
    "            #print(file)"
   ]
  },
  {
   "cell_type": "code",
   "execution_count": 24,
   "metadata": {},
   "outputs": [],
   "source": [
    "Data_seq = []\n",
    "for file in os.listdir(\n",
    "    \"/home/fjn197_alumni_ku_dk/modi_mount/CT_Reconstruction/results\"):\n",
    "    if file.startswith(\"slurm_sequential\"):\n",
    "        with open(res_dir+'/'+file, 'r') as f:\n",
    "            data = f.read()\n",
    "            Data_seq.append(data)\n",
    "            #print(file)"
   ]
  },
  {
   "cell_type": "code",
   "execution_count": 71,
   "metadata": {},
   "outputs": [
    {
     "data": {
      "text/html": [
       "<div>\n",
       "<style scoped>\n",
       "    .dataframe tbody tr th:only-of-type {\n",
       "        vertical-align: middle;\n",
       "    }\n",
       "\n",
       "    .dataframe tbody tr th {\n",
       "        vertical-align: top;\n",
       "    }\n",
       "\n",
       "    .dataframe thead th {\n",
       "        text-align: right;\n",
       "    }\n",
       "</style>\n",
       "<table border=\"1\" class=\"dataframe\">\n",
       "  <thead>\n",
       "    <tr style=\"text-align: right;\">\n",
       "      <th></th>\n",
       "      <th>Nvox</th>\n",
       "      <th>Nprocs</th>\n",
       "      <th>Nthreads</th>\n",
       "      <th>Nnodes</th>\n",
       "      <th>Ttotal</th>\n",
       "      <th>Tread</th>\n",
       "      <th>Tcomp</th>\n",
       "      <th>Twrite</th>\n",
       "      <th>Par</th>\n",
       "    </tr>\n",
       "  </thead>\n",
       "  <tbody>\n",
       "    <tr>\n",
       "      <th>0</th>\n",
       "      <td>64.0</td>\n",
       "      <td>1.0</td>\n",
       "      <td>1.0</td>\n",
       "      <td>1.0</td>\n",
       "      <td>8.78127</td>\n",
       "      <td>6.53987</td>\n",
       "      <td>2.195690</td>\n",
       "      <td>0.000004</td>\n",
       "      <td>1.0</td>\n",
       "    </tr>\n",
       "    <tr>\n",
       "      <th>1</th>\n",
       "      <td>128.0</td>\n",
       "      <td>2.0</td>\n",
       "      <td>4.0</td>\n",
       "      <td>1.0</td>\n",
       "      <td>4.10571</td>\n",
       "      <td>1.86541</td>\n",
       "      <td>2.194930</td>\n",
       "      <td>0.000006</td>\n",
       "      <td>1.0</td>\n",
       "    </tr>\n",
       "    <tr>\n",
       "      <th>2</th>\n",
       "      <td>128.0</td>\n",
       "      <td>8.0</td>\n",
       "      <td>16.0</td>\n",
       "      <td>2.0</td>\n",
       "      <td>2.09957</td>\n",
       "      <td>1.74861</td>\n",
       "      <td>0.255982</td>\n",
       "      <td>0.000007</td>\n",
       "      <td>1.0</td>\n",
       "    </tr>\n",
       "    <tr>\n",
       "      <th>3</th>\n",
       "      <td>256.0</td>\n",
       "      <td>2.0</td>\n",
       "      <td>16.0</td>\n",
       "      <td>1.0</td>\n",
       "      <td>4.61953</td>\n",
       "      <td>1.63959</td>\n",
       "      <td>2.888910</td>\n",
       "      <td>0.000009</td>\n",
       "      <td>1.0</td>\n",
       "    </tr>\n",
       "    <tr>\n",
       "      <th>4</th>\n",
       "      <td>128.0</td>\n",
       "      <td>2.0</td>\n",
       "      <td>16.0</td>\n",
       "      <td>1.0</td>\n",
       "      <td>2.94040</td>\n",
       "      <td>1.75835</td>\n",
       "      <td>1.141250</td>\n",
       "      <td>0.000007</td>\n",
       "      <td>1.0</td>\n",
       "    </tr>\n",
       "    <tr>\n",
       "      <th>5</th>\n",
       "      <td>256.0</td>\n",
       "      <td>2.0</td>\n",
       "      <td>64.0</td>\n",
       "      <td>2.0</td>\n",
       "      <td>3.27793</td>\n",
       "      <td>1.77646</td>\n",
       "      <td>1.354790</td>\n",
       "      <td>0.000005</td>\n",
       "      <td>1.0</td>\n",
       "    </tr>\n",
       "    <tr>\n",
       "      <th>6</th>\n",
       "      <td>512.0</td>\n",
       "      <td>8.0</td>\n",
       "      <td>64.0</td>\n",
       "      <td>8.0</td>\n",
       "      <td>7.44898</td>\n",
       "      <td>3.80874</td>\n",
       "      <td>2.241420</td>\n",
       "      <td>0.000005</td>\n",
       "      <td>1.0</td>\n",
       "    </tr>\n",
       "    <tr>\n",
       "      <th>7</th>\n",
       "      <td>128.0</td>\n",
       "      <td>16.0</td>\n",
       "      <td>1.0</td>\n",
       "      <td>1.0</td>\n",
       "      <td>102.80700</td>\n",
       "      <td>89.10380</td>\n",
       "      <td>3.180580</td>\n",
       "      <td>0.000005</td>\n",
       "      <td>1.0</td>\n",
       "    </tr>\n",
       "    <tr>\n",
       "      <th>8</th>\n",
       "      <td>256.0</td>\n",
       "      <td>2.0</td>\n",
       "      <td>8.0</td>\n",
       "      <td>1.0</td>\n",
       "      <td>10.51050</td>\n",
       "      <td>2.07328</td>\n",
       "      <td>8.354190</td>\n",
       "      <td>0.000008</td>\n",
       "      <td>1.0</td>\n",
       "    </tr>\n",
       "    <tr>\n",
       "      <th>9</th>\n",
       "      <td>128.0</td>\n",
       "      <td>1.0</td>\n",
       "      <td>1.0</td>\n",
       "      <td>1.0</td>\n",
       "      <td>10.50190</td>\n",
       "      <td>2.93168</td>\n",
       "      <td>7.536180</td>\n",
       "      <td>0.000008</td>\n",
       "      <td>1.0</td>\n",
       "    </tr>\n",
       "    <tr>\n",
       "      <th>10</th>\n",
       "      <td>128.0</td>\n",
       "      <td>8.0</td>\n",
       "      <td>1.0</td>\n",
       "      <td>1.0</td>\n",
       "      <td>135.98100</td>\n",
       "      <td>120.97500</td>\n",
       "      <td>3.136240</td>\n",
       "      <td>0.000007</td>\n",
       "      <td>1.0</td>\n",
       "    </tr>\n",
       "    <tr>\n",
       "      <th>11</th>\n",
       "      <td>256.0</td>\n",
       "      <td>2.0</td>\n",
       "      <td>16.0</td>\n",
       "      <td>1.0</td>\n",
       "      <td>6.15252</td>\n",
       "      <td>1.78050</td>\n",
       "      <td>4.291400</td>\n",
       "      <td>0.000010</td>\n",
       "      <td>1.0</td>\n",
       "    </tr>\n",
       "    <tr>\n",
       "      <th>12</th>\n",
       "      <td>128.0</td>\n",
       "      <td>2.0</td>\n",
       "      <td>1.0</td>\n",
       "      <td>1.0</td>\n",
       "      <td>8.62387</td>\n",
       "      <td>1.96538</td>\n",
       "      <td>6.619250</td>\n",
       "      <td>0.000007</td>\n",
       "      <td>1.0</td>\n",
       "    </tr>\n",
       "  </tbody>\n",
       "</table>\n",
       "</div>"
      ],
      "text/plain": [
       "     Nvox  Nprocs  Nthreads  Nnodes     Ttotal      Tread     Tcomp    Twrite  \\\n",
       "0    64.0     1.0       1.0     1.0    8.78127    6.53987  2.195690  0.000004   \n",
       "1   128.0     2.0       4.0     1.0    4.10571    1.86541  2.194930  0.000006   \n",
       "2   128.0     8.0      16.0     2.0    2.09957    1.74861  0.255982  0.000007   \n",
       "3   256.0     2.0      16.0     1.0    4.61953    1.63959  2.888910  0.000009   \n",
       "4   128.0     2.0      16.0     1.0    2.94040    1.75835  1.141250  0.000007   \n",
       "5   256.0     2.0      64.0     2.0    3.27793    1.77646  1.354790  0.000005   \n",
       "6   512.0     8.0      64.0     8.0    7.44898    3.80874  2.241420  0.000005   \n",
       "7   128.0    16.0       1.0     1.0  102.80700   89.10380  3.180580  0.000005   \n",
       "8   256.0     2.0       8.0     1.0   10.51050    2.07328  8.354190  0.000008   \n",
       "9   128.0     1.0       1.0     1.0   10.50190    2.93168  7.536180  0.000008   \n",
       "10  128.0     8.0       1.0     1.0  135.98100  120.97500  3.136240  0.000007   \n",
       "11  256.0     2.0      16.0     1.0    6.15252    1.78050  4.291400  0.000010   \n",
       "12  128.0     2.0       1.0     1.0    8.62387    1.96538  6.619250  0.000007   \n",
       "\n",
       "    Par  \n",
       "0   1.0  \n",
       "1   1.0  \n",
       "2   1.0  \n",
       "3   1.0  \n",
       "4   1.0  \n",
       "5   1.0  \n",
       "6   1.0  \n",
       "7   1.0  \n",
       "8   1.0  \n",
       "9   1.0  \n",
       "10  1.0  \n",
       "11  1.0  \n",
       "12  1.0  "
      ]
     },
     "execution_count": 71,
     "metadata": {},
     "output_type": "execute_result"
    }
   ],
   "source": [
    "num_files_seq = len(Data_seq)\n",
    "Columns = ['Nvox','Nprocs', 'Nthreads', 'Nnodes', \n",
    "           'Ttotal', 'Tread', 'Tcomp', 'Twrite',\n",
    "          'Par'] \n",
    "df = pd.DataFrame(columns=Columns)\n",
    "for i in range(num_files_seq):\n",
    "    Nprocs = 1#float(re.search('rank 0 out of (.*)\\n', Data_seq[i]).group(1))\n",
    "    Nthreads = 1#float(re.search('rank 0 out of (.*)\\n', Data_seq[i]).group(1))\n",
    "    Nnodes = 1\n",
    "    Nvox = int(re.search('num_voxels=(.*)', Data_seq[i]).group(1))\n",
    "    Ttot = float(re.search('elapsed time: (.*) sec', Data_seq[i]).group(1))\n",
    "    Tread = float(re.search('reading time: (.*) sec', Data_seq[i]).group(1))\n",
    "    Tcomp = float(re.search('computation time: (.*) sec', Data_seq[i]).group(1))\n",
    "    Twrite = float(re.search('writing time: (.*) sec', Data_seq[i]).group(1))\n",
    "    Values = [Nvox, Nprocs, Nthreads, Nnodes, \n",
    "              Ttot, Tread, Tcomp, Twrite, 0]\n",
    "    append_dict = dict(zip(Columns, Values))\n",
    "    df = df.append(append_dict, ignore_index=True)\n",
    "num_files = len(Data_seq)\n",
    "Columns = ['Nvox','Nprocs', 'Nthreads', 'Nnodes', \n",
    "           'Ttotal', 'Tread', 'Tcomp', 'Twrite',\n",
    "          'Par'] \n",
    "df = pd.DataFrame(columns=Columns)\n",
    "\n",
    "for i in range(13):\n",
    "    Nprocs = int(re.search('rank 0 out of (.*).\\n', Data_par[i]).group(1))\n",
    "    Nthreads = int(re.search('Nthreads=(.*)\\n', Data_par[i]).group(1))\n",
    "    Nnodes = len(np.unique(re.findall('modi00(.*).science', Data_par[i])))\n",
    "    Nvox = int(re.search('Nvoxels=(.*)', Data_par[i]).group(1))\n",
    "    Ttot = float(re.search('elapsed time: (.*) sec', Data_par[i]).group(1))\n",
    "    Tread = float(re.search('reading time: (.*) sec', Data_par[i]).group(1))\n",
    "    Tcomp = float(re.search('computation time: (.*) sec', Data_par[i]).group(1))\n",
    "    Twrite = float(re.search('writing time: (.*) sec', Data_par[i]).group(1))\n",
    "    Values = [Nvox, Nprocs, Nthreads, Nnodes, \n",
    "              Ttot, Tread, Tcomp, Twrite, 1]\n",
    "    append_dict = dict(zip(Columns, Values))\n",
    "    df = df.append(append_dict, ignore_index=True)\n",
    "#np.savetxt('strong_scaling.txt', Data_write)\n",
    "#df\n",
    "#np.savetxt('strong_scaling.txt', Data_write)\n",
    "df"
   ]
  },
  {
   "cell_type": "code",
   "execution_count": 72,
   "metadata": {},
   "outputs": [],
   "source": [
    "df.to_csv(path_or_buf='/home/fjn197_alumni_ku_dk/modi_mount/CT_Reconstruction/df.csv')"
   ]
  },
  {
   "cell_type": "code",
   "execution_count": 69,
   "metadata": {},
   "outputs": [
    {
     "data": {
      "text/plain": [
       "<matplotlib.collections.PathCollection at 0x7f6bd0105290>"
      ]
     },
     "execution_count": 69,
     "metadata": {},
     "output_type": "execute_result"
    },
    {
     "data": {
      "image/png": "[encoded data removed]",
      "text/plain": [
       "<Figure size 432x288 with 1 Axes>"
      ]
     },
     "metadata": {
      "needs_background": "light"
     },
     "output_type": "display_data"
    }
   ],
   "source": [
    "plt.scatter(Data_write[3:10,0], Data_write[3:10,1])"
   ]
  },
  {
   "cell_type": "code",
   "execution_count": 73,
   "metadata": {},
   "outputs": [],
   "source": [
    "mask_sequential = Data_write[:,-1]==0\n",
    "Data_parallel = Data_write[~mask_sequential]\n",
    "Data_sequential = Data_write[mask_sequential]"
   ]
  },
  {
   "cell_type": "code",
   "execution_count": 80,
   "metadata": {},
   "outputs": [
    {
     "data": {
      "text/plain": [
       "<matplotlib.collections.PathCollection at 0x7f6bd0f380d0>"
      ]
     },
     "execution_count": 80,
     "metadata": {},
     "output_type": "execute_result"
    },
    {
     "data": {
      "image/png": "[encoded data removed]",
      "text/plain": [
       "<Figure size 432x288 with 1 Axes>"
      ]
     },
     "metadata": {
      "needs_background": "light"
     },
     "output_type": "display_data"
    }
   ],
   "source": [
    "plt.scatter(Data_sequential[:,2], Data_sequential[:,1])"
   ]
  },
  {
   "cell_type": "code",
   "execution_count": 82,
   "metadata": {},
   "outputs": [],
   "source": [
    "Data_parallel_small = Data_parallel[Data_parallel[:,2]==0]\n",
    "Data_parallel_medium = Data_parallel[Data_parallel[:,2]==1]\n",
    "Data_parallel_large = Data_parallel[Data_parallel[:,2]==2]"
   ]
  },
  {
   "cell_type": "code",
   "execution_count": 91,
   "metadata": {},
   "outputs": [
    {
     "data": {
      "text/plain": [
       "array([False,  True, False, False, False, False, False])"
      ]
     },
     "execution_count": 91,
     "metadata": {},
     "output_type": "execute_result"
    }
   ],
   "source": [
    "mask1_small"
   ]
  },
  {
   "cell_type": "code",
   "execution_count": 99,
   "metadata": {},
   "outputs": [
    {
     "data": {
      "image/png": "[encoded data removed]",
      "text/plain": [
       "<Figure size 432x288 with 1 Axes>"
      ]
     },
     "metadata": {
      "needs_background": "light"
     },
     "output_type": "display_data"
    }
   ],
   "source": [
    "mask1_small = Data_parallel_small[:,0]==1\n",
    "plt.scatter(Data_parallel_small[:,0], Data_parallel_small[mask1_small,1]/Data_parallel_small[:,1])\n",
    "plt.xscale('log', basex=2)"
   ]
  },
  {
   "cell_type": "code",
   "execution_count": 98,
   "metadata": {},
   "outputs": [
    {
     "data": {
      "image/png": "[encoded data removed]",
      "text/plain": [
       "<Figure size 432x288 with 1 Axes>"
      ]
     },
     "metadata": {
      "needs_background": "light"
     },
     "output_type": "display_data"
    }
   ],
   "source": [
    "mask1_medium = Data_parallel_medium[:,0]==1\n",
    "plt.scatter(Data_parallel_medium[:,0], Data_parallel_medium[mask1_medium,1]/Data_parallel_medium[:,1])\n",
    "plt.xscale('log', basex=2)"
   ]
  },
  {
   "cell_type": "code",
   "execution_count": 97,
   "metadata": {},
   "outputs": [
    {
     "data": {
      "image/png": "[encoded data removed]",
      "text/plain": [
       "<Figure size 432x288 with 1 Axes>"
      ]
     },
     "metadata": {
      "needs_background": "light"
     },
     "output_type": "display_data"
    }
   ],
   "source": [
    "mask1_large = Data_parallel_large[:,0]==1\n",
    "plt.scatter(Data_parallel_large[:,0], Data_parallel_large[mask1_large,1]/Data_parallel_large[:,1])\n",
    "plt.xscale('log', basex=2)"
   ]
  },
  {
   "cell_type": "code",
   "execution_count": 101,
   "metadata": {},
   "outputs": [],
   "source": [
    "#weak scaling"
   ]
  },
  {
   "cell_type": "code",
   "execution_count": null,
   "metadata": {},
   "outputs": [],
   "source": [
    "np.argwhere( < 0)\n",
    "plt.scatter(Data_parallel_large[:,0], Data_parallel_large[mask1_large,1]/Data_parallel_large[:,1])"
   ]
  },
  {
   "cell_type": "code",
   "execution_count": 105,
   "metadata": {},
   "outputs": [
    {
     "data": {
      "text/plain": [
       "(4.0, 100.20408163265306)"
      ]
     },
     "execution_count": 105,
     "metadata": {},
     "output_type": "execute_result"
    }
   ],
   "source": [
    "small_size = 196*360\n",
    "medium_size = 1964*3600\n",
    "large_size = 3928*7200\n",
    "large_size/medium_size, medium_size/small_size"
   ]
  }
 ],
 "metadata": {
  "kernelspec": {
   "display_name": "Python 3",
   "language": "python",
   "name": "python3"
  },
  "language_info": {
   "codemirror_mode": {
    "name": "ipython",
    "version": 3
   },
   "file_extension": ".py",
   "mimetype": "text/x-python",
   "name": "python",
   "nbconvert_exporter": "python",
   "pygments_lexer": "ipython3",
   "version": "3.7.6"
  }
 },
 "nbformat": 4,
 "nbformat_minor": 4
}
